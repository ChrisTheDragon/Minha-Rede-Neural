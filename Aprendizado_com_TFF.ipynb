{
  "nbformat": 4,
  "nbformat_minor": 0,
  "metadata": {
    "colab": {
      "provenance": [],
      "authorship_tag": "ABX9TyMeMBoLNvQX3XaWF3vOIoqL",
      "include_colab_link": true
    },
    "kernelspec": {
      "name": "python3",
      "display_name": "Python 3"
    },
    "language_info": {
      "name": "python"
    }
  },
  "cells": [
    {
      "cell_type": "markdown",
      "metadata": {
        "id": "view-in-github",
        "colab_type": "text"
      },
      "source": [
        "<a href=\"https://colab.research.google.com/github/ChrisTheDragon/Minha-Rede-Neural/blob/main/Aprendizado_com_TFF.ipynb\" target=\"_parent\"><img src=\"https://colab.research.google.com/assets/colab-badge.svg\" alt=\"Open In Colab\"/></a>"
      ]
    },
    {
      "cell_type": "markdown",
      "source": [
        "# **Como usar Tensorflow-federated para construir uma rede com aprendizado federado**"
      ],
      "metadata": {
        "id": "5pEmAawM0JzR"
      }
    },
    {
      "cell_type": "markdown",
      "source": [
        "## O que é `Tensorflow-federated`"
      ],
      "metadata": {
        "id": "gtFOGqFWHC__"
      }
    },
    {
      "cell_type": "markdown",
      "source": [
        "A biblioteca TensorFlow Federated (TFF) é uma extensão do TensorFlow, que é um dos frameworks de aprendizado de máquina mais populares atualmente. O TFF foi projetado para permitir a construção e treinamento de modelos de aprendizado de máquina em um contexto de aprendizado federado. No aprendizado federado, em vez de reunir todos os dados em um local centralizado, o treinamento do modelo ocorre em dispositivos ou sistemas distribuídos, preservando a privacidade dos dados locais."
      ],
      "metadata": {
        "id": "iUAykopLHKK3"
      }
    },
    {
      "cell_type": "markdown",
      "source": [
        "## Importações"
      ],
      "metadata": {
        "id": "QFJlM9cmGrLt"
      }
    },
    {
      "cell_type": "code",
      "source": [
        "#@title\n",
        "!pip install --upgrade tensorflow-federated"
      ],
      "metadata": {
        "id": "Hv705WIHo6x1"
      },
      "execution_count": null,
      "outputs": []
    },
    {
      "cell_type": "code",
      "source": [
        "import tensorflow as tf\n",
        "import tensorflow_federated as tff"
      ],
      "metadata": {
        "id": "RjFjfBA1o86-"
      },
      "execution_count": null,
      "outputs": []
    },
    {
      "cell_type": "markdown",
      "source": [
        "# Preparando os dados de entrada e pré processamento\n",
        "A aprendizagem federada requer um conjunto de dados federados, ou seja, uma coleção de dados de vários usuários.\n",
        "\n",
        "A fim de facilitar a experimentação, o repositório TFF tem alguns conjuntos de dados que podem ser usados livremente como teste, incluindo uma versão federado de MNIST que contém uma versão do conjunto de dados NIST originais. Que são digitos de 0-9 escritos a mão por escritores diferentes. Cada escritor será tratado como um cliente diferente.\n"
      ],
      "metadata": {
        "id": "n4QrENu2pEnK"
      }
    },
    {
      "cell_type": "code",
      "source": [
        "emnist_train, emnist_test = tff.simulation.datasets.emnist.load_data()"
      ],
      "metadata": {
        "id": "ZgEn2dOTxD7R",
        "colab": {
          "base_uri": "https://localhost:8080/"
        },
        "outputId": "ae58382e-11e5-4828-8cf3-3d787a6da957"
      },
      "execution_count": null,
      "outputs": [
        {
          "output_type": "stream",
          "name": "stderr",
          "text": [
            "Downloading emnist_all.sqlite.lzma: 100%|██████████| 170507172/170507172 [00:54<00:00, 3157404.14it/s]\n"
          ]
        }
      ]
    },
    {
      "cell_type": "markdown",
      "source": [
        "Para alimentar o conjunto de dados em nosso modelo, achatar os dados, e converter cada exemplo em uma tupla da forma (flattened_image_vector, label)."
      ],
      "metadata": {
        "id": "Rs6riuWm0cCK"
      }
    },
    {
      "cell_type": "code",
      "source": [
        "NUM_CLIENTS = 10\n",
        "BATCH_SIZE = 20\n",
        "\n",
        "def preprocess(dataset):\n",
        "\n",
        "  def batch_format_fn(element):\n",
        "    \"\"\"Flatten a batch of EMNIST data and return a (features, label) tuple.\"\"\"\n",
        "    return (tf.reshape(element['pixels'], [-1, 784]), \n",
        "            tf.reshape(element['label'], [-1, 1]))\n",
        "\n",
        "  return dataset.batch(BATCH_SIZE).map(batch_format_fn)"
      ],
      "metadata": {
        "id": "mSH91ufO0une"
      },
      "execution_count": null,
      "outputs": []
    },
    {
      "cell_type": "markdown",
      "source": [
        "A função preprocess recebe um conjunto de dados, divide-o em lotes de tamanho fixo `BATCH_SIZE` e remodela os tensores de pixels e rótulos para uma forma adequada. Isso permite que os dados sejam processados em lotes durante o treinamento da rede neural no contexto do aprendizado federado."
      ],
      "metadata": {
        "id": "rJ1MJyB51zV_"
      }
    },
    {
      "cell_type": "code",
      "source": [
        "client_ids = sorted(emnist_train.client_ids)[:NUM_CLIENTS]\n",
        "federated_train_data = [preprocess(emnist_train.create_tf_dataset_for_client(x))\n",
        "  for x in client_ids\n",
        "]"
      ],
      "metadata": {
        "id": "06bAsBgD0zs2"
      },
      "execution_count": null,
      "outputs": []
    },
    {
      "cell_type": "markdown",
      "source": [
        "O código acima cria uma lista chamada `federated_train_data`, que contém os conjuntos de dados pré-processados para cada cliente (dispositivo) envolvido no aprendizado federado. "
      ],
      "metadata": {
        "id": "31D23ddb2E9p"
      }
    },
    {
      "cell_type": "markdown",
      "source": [
        "Nota-se que o TFF trabalha com dois tipos de dados, os `tff.CLIENTS` e `tff.SERVER`, que são chamados de valores federados.\n",
        "\n",
        "Basicamente para que o TFF reconheça os dados, eles devem passar por esse pre processamento em que serão transformados em `{float32}@CLIENTS` e quando processados pelo TFF retornaram como `{float32}@SERVER`.\n",
        "\n",
        "Esses dois tipos de dados que serão transmitidos pela rede federada em questão. Assim mantendo a privacidade dos mesmos."
      ],
      "metadata": {
        "id": "flOtKnbX-LS2"
      }
    },
    {
      "cell_type": "markdown",
      "source": [
        "# Construindo o Modelo de Rede Neural\n",
        "Este modelo (implementado através `tf.keras` ) tem uma única camada oculta, seguindo-se uma camada Softmax.\n",
        " \n",
        "`Keras` é uma biblioteca de alto nível para construção e treinamento de redes neurais em Python que vem junto com o `tf`."
      ],
      "metadata": {
        "id": "AdooOFU72MJt"
      }
    },
    {
      "cell_type": "code",
      "source": [
        "def create_keras_model():\n",
        "  initializer = tf.keras.initializers.GlorotNormal(seed=0)\n",
        "  return tf.keras.models.Sequential([\n",
        "      tf.keras.layers.Input(shape=(784,)),\n",
        "      tf.keras.layers.Dense(10, kernel_initializer=initializer),\n",
        "      tf.keras.layers.Softmax(),\n",
        "  ])"
      ],
      "metadata": {
        "id": "aTzS8QPo2emy"
      },
      "execution_count": null,
      "outputs": []
    },
    {
      "cell_type": "markdown",
      "source": [
        "Utilizando o modelo criado acima, ele é convertido em um modelo federado que pode ser usado para treinamento em um contexto distribuído utilizando a função `tff.learning.from_keras_model`"
      ],
      "metadata": {
        "id": "2b9pxWFjvw1o"
      }
    },
    {
      "cell_type": "code",
      "source": [
        "def model_fn():\n",
        "  keras_model = create_keras_model()\n",
        "  return tff.learning.models.from_keras_model(\n",
        "      keras_model,\n",
        "      input_spec=federated_train_data[0].element_spec,\n",
        "      loss=tf.keras.losses.SparseCategoricalCrossentropy(),\n",
        "      metrics=[tf.keras.metrics.SparseCategoricalAccuracy()])"
      ],
      "metadata": {
        "id": "fbs3N1UJvv15"
      },
      "execution_count": null,
      "outputs": []
    },
    {
      "cell_type": "markdown",
      "source": [
        "# Construindo o Algoritimo de Aprendizagem Federada\n",
        "Em muitos casos, os algoritmos federados têm 4 componentes principais:\n",
        "1. Uma etapa de transmissão de servidor para cliente.\n",
        "2. Uma etapa de atualização do cliente local.\n",
        "3. Uma etapa de upload de cliente para servidor.\n",
        "4. Uma etapa de atualização do servidor.\n",
        "\n",
        "Em TFF, um algoritimo federado é normalmente representado pela classe `tff.templates.IterativeProcess`. Esta é uma classe que contém as funções `initialize` e `next`. Aqui, `initialize` é usado para inicializar o servidor, e `next` realizará uma rodada de comunicação do algoritmo federado."
      ],
      "metadata": {
        "id": "RJBuRXjmw24B"
      }
    },
    {
      "cell_type": "markdown",
      "source": [
        "**O algoritimo autilizado aqui é um FedAvg para prever temperaturas em sensores** "
      ],
      "metadata": {
        "id": "TTWQJjmP4MVu"
      }
    },
    {
      "cell_type": "markdown",
      "source": [
        "### Criando a Inicialização do Servidor"
      ],
      "metadata": {
        "id": "NETNmGYgIvvn"
      }
    },
    {
      "cell_type": "markdown",
      "source": [
        "`server_init` cria uma `tff.learning.Model`, e retorna os seus pesos treináveis."
      ],
      "metadata": {
        "id": "cyXHchDSFx-e"
      }
    },
    {
      "cell_type": "code",
      "source": [
        "@tff.tf_computation\n",
        "def server_init():\n",
        "  model = model_fn()\n",
        "  return model.trainable_variables\n"
      ],
      "metadata": {
        "id": "Jvmqup1xByna"
      },
      "execution_count": null,
      "outputs": []
    },
    {
      "cell_type": "markdown",
      "source": [
        "`initializa_fn` transforma os pesos em tipos federados `{float32}@SERVER` que podem ser mandados aos servidores"
      ],
      "metadata": {
        "id": "mjjl5nIi00ae"
      }
    },
    {
      "cell_type": "code",
      "source": [
        "@tff.federated_computation\n",
        "def initialize_fn():\n",
        "  return tff.federated_value(server_init(), tff.SERVER)"
      ],
      "metadata": {
        "id": "HgeSSpBmzqYy"
      },
      "execution_count": null,
      "outputs": []
    },
    {
      "cell_type": "markdown",
      "source": [
        "Extrai os tipos do peso dos Servidores e Modelos para serem aplicados as funções"
      ],
      "metadata": {
        "id": "kPbBP4Q1Hwp-"
      }
    },
    {
      "cell_type": "code",
      "source": [
        "whimsy_model = model_fn()\n",
        "tf_dataset_type = tff.SequenceType(whimsy_model.input_spec)"
      ],
      "metadata": {
        "id": "WOMr-r0eHca3"
      },
      "execution_count": null,
      "outputs": []
    },
    {
      "cell_type": "code",
      "source": [
        "model_weights_type = server_init.type_signature.result"
      ],
      "metadata": {
        "id": "_C0jI6KJHnMS"
      },
      "execution_count": null,
      "outputs": []
    },
    {
      "cell_type": "markdown",
      "source": [
        "## Atualização do cliente local\n",
        "Aqui se implementa a etapa de treinamento local de um cliente durante o treinamento federado. \n",
        "* Ele atribui os pesos do servidor ao modelo do cliente\n",
        "* Executa um loop sobre os lotes de dados do cliente, \n",
        "* Calcula os gradientes dos pesos em relação à função de perda\n",
        "* Aplica esses gradientes usando um otimizador específico do cliente. \n",
        "* Os pesos atualizados do cliente são retornados no final da função.\n",
        "\n",
        "**Esse codigo vai no dispositivo**"
      ],
      "metadata": {
        "id": "z8bzaz6rx8kP"
      }
    },
    {
      "cell_type": "code",
      "source": [
        "@tf.function\n",
        "def client_update(model, dataset, server_weights, client_optimizer):\n",
        "  \"\"\"Performs training (using the server model weights) on the client's dataset.\"\"\"\n",
        "  # Initialize the client model with the current server weights.\n",
        "  client_weights = model.trainable_variables\n",
        "  # Assign the server weights to the client model.\n",
        "  tf.nest.map_structure(lambda x, y: x.assign(y),\n",
        "                        client_weights, server_weights)\n",
        "\n",
        "  # Use the client_optimizer to update the local model.\n",
        "  for batch in dataset:\n",
        "    with tf.GradientTape() as tape:\n",
        "      # Compute a forward pass on the batch of data\n",
        "      outputs = model.forward_pass(batch)\n",
        "\n",
        "    # Compute the corresponding gradient\n",
        "    grads = tape.gradient(outputs.loss, client_weights)\n",
        "    grads_and_vars = zip(grads, client_weights)\n",
        "\n",
        "    # Apply the gradient using a client optimizer.\n",
        "    client_optimizer.apply_gradients(grads_and_vars)\n",
        "\n",
        "  return client_weights"
      ],
      "metadata": {
        "id": "NO7Zl8PRIUR1"
      },
      "execution_count": null,
      "outputs": []
    },
    {
      "cell_type": "markdown",
      "source": [
        "A função `client_update_fn` encapsula a lógica de treinamento local no cliente. Essa função cria um modelo local, configura um otimizador SGD e chama a função client_update para realizar o treinamento local usando o conjunto de dados federado e os pesos do modelo do servidor. A função de computação federada retorna o resultado do treinamento local como saída."
      ],
      "metadata": {
        "id": "H5Yui4GnOSon"
      }
    },
    {
      "cell_type": "code",
      "source": [
        "@tff.tf_computation(tf_dataset_type, model_weights_type)\n",
        "def client_update_fn(tf_dataset, server_weights):\n",
        "  model = model_fn()\n",
        "  client_optimizer = tf.keras.optimizers.SGD(learning_rate=0.01)\n",
        "  return client_update(model, tf_dataset, server_weights, client_optimizer)"
      ],
      "metadata": {
        "id": "Owo_L3YB2kTL"
      },
      "execution_count": null,
      "outputs": []
    },
    {
      "cell_type": "markdown",
      "source": [
        "## Atualização do servidor.\n",
        "A atualização do servidor para FedAvg é mais simples do que a atualização do cliente. Aqui apenas é substituido os pesos do modelo do servidor pela média dos pesos do modelo do cliente. Essa etapa de atualização ocorre após os clientes realizarem o treinamento local e enviarem as atualizações dos pesos para o servidor. A função retorna os pesos atualizados do modelo do servidor, que podem ser usados para a próxima iteração do treinamento federado."
      ],
      "metadata": {
        "id": "dsEx4qNVyCUx"
      }
    },
    {
      "cell_type": "code",
      "source": [
        "@tf.function\n",
        "def server_update(model, mean_client_weights):\n",
        "  \"\"\"Updates the server model weights as the average of the client model weights.\"\"\"\n",
        "  model_weights = model.trainable_variables\n",
        "  # Assign the mean client weights to the server model.\n",
        "  tf.nest.map_structure(lambda x, y: x.assign(y),\n",
        "                        model_weights, mean_client_weights)\n",
        "  return model_weights"
      ],
      "metadata": {
        "id": "7owY2VvNIWpu"
      },
      "execution_count": null,
      "outputs": []
    },
    {
      "cell_type": "markdown",
      "source": [
        "Essa função cria um modelo global no servidor e chama a função 'server_update` para realizar a atualização dos pesos do modelo com base nos pesos médios dos clientes. A função de computação federada retorna os pesos atualizados do modelo do servidor como saída."
      ],
      "metadata": {
        "id": "mdIs4_1AOgMj"
      }
    },
    {
      "cell_type": "code",
      "source": [
        "@tff.tf_computation(model_weights_type)\n",
        "def server_update_fn(mean_client_weights):\n",
        "  model = model_fn()\n",
        "  return server_update(model, mean_client_weights)"
      ],
      "metadata": {
        "id": "kx6oWrlp4mws"
      },
      "execution_count": null,
      "outputs": []
    },
    {
      "cell_type": "markdown",
      "source": [
        "# Rodando o Modelo"
      ],
      "metadata": {
        "id": "fd1eV5Wv2Qd4"
      }
    },
    {
      "cell_type": "markdown",
      "source": [
        "Pega os pesos extraidos anteriormente e transforma em tipos federados"
      ],
      "metadata": {
        "id": "mg0MJDP3Ij_I"
      }
    },
    {
      "cell_type": "code",
      "source": [
        "federated_server_type = tff.FederatedType(model_weights_type, tff.SERVER)\n",
        "federated_dataset_type = tff.FederatedType(tf_dataset_type, tff.CLIENTS)"
      ],
      "metadata": {
        "id": "v2coh5z9IkVf"
      },
      "execution_count": null,
      "outputs": []
    },
    {
      "cell_type": "markdown",
      "source": [
        "A função `next_fn` recebe os pesos do servidor atual (`server_weights`) e um conjunto de dados federado (`federated_dataset`) como entrada e retorna os pesos atualizados do servidor após a iteração."
      ],
      "metadata": {
        "id": "rYpGVmAF1ayV"
      }
    },
    {
      "cell_type": "code",
      "source": [
        "@tff.federated_computation(federated_server_type, federated_dataset_type)\n",
        "def next_fn(server_weights, federated_dataset):\n",
        "  # Broadcast the server weights to the clients.\n",
        "  server_weights_at_client = tff.federated_broadcast(server_weights)\n",
        "\n",
        "  # Each client computes their updated weights.\n",
        "  client_weights = tff.federated_map(\n",
        "      client_update_fn, (federated_dataset, server_weights_at_client))\n",
        "\n",
        "  # The server averages these updates.\n",
        "  mean_client_weights = tff.federated_mean(client_weights)\n",
        "\n",
        "  # The server updates its model.\n",
        "  server_weights = tff.federated_map(server_update_fn, mean_client_weights)\n",
        "\n",
        "  return server_weights"
      ],
      "metadata": {
        "id": "Lk51iIlh1c4b"
      },
      "execution_count": null,
      "outputs": []
    },
    {
      "cell_type": "markdown",
      "source": [
        "Função a ser chamada para o treinamento"
      ],
      "metadata": {
        "id": "0y9MqRMjKw96"
      }
    },
    {
      "cell_type": "code",
      "source": [
        "federated_algorithm = tff.templates.IterativeProcess(\n",
        "    initialize_fn=initialize_fn,\n",
        "    next_fn=next_fn\n",
        ")"
      ],
      "metadata": {
        "id": "E87Vz6-vKxUe"
      },
      "execution_count": null,
      "outputs": []
    },
    {
      "cell_type": "markdown",
      "source": [
        "Cria um conjunto de dados para Teste"
      ],
      "metadata": {
        "id": "bCD6dln5LYPQ"
      }
    },
    {
      "cell_type": "code",
      "source": [
        "central_emnist_test = emnist_test.create_tf_dataset_from_all_clients()\n",
        "central_emnist_test = preprocess(central_emnist_test)"
      ],
      "metadata": {
        "id": "-rUTlcAcLave"
      },
      "execution_count": null,
      "outputs": []
    },
    {
      "cell_type": "markdown",
      "source": [
        "Essa função realiza uma avaliação do desempenho de um modelo Keras utilizando os pesos do servidor no aprendizado federado. Ela configura o modelo Keras para a avaliação, atribui os pesos do servidor ao modelo e calcula a perda e as métricas de desempenho usando um conjunto de teste. Isso permite avaliar quão bem o modelo está performando em dados não vistos durante o treinamento."
      ],
      "metadata": {
        "id": "WIa7vuYkLqxr"
      }
    },
    {
      "cell_type": "code",
      "source": [
        "def evaluate(server_state):\n",
        "  keras_model = create_keras_model()\n",
        "  keras_model.compile(\n",
        "      loss=tf.keras.losses.SparseCategoricalCrossentropy(),\n",
        "      metrics=[tf.keras.metrics.SparseCategoricalAccuracy()]  \n",
        "  )\n",
        "  keras_model.set_weights(server_state)\n",
        "  keras_model.evaluate(central_emnist_test)"
      ],
      "metadata": {
        "id": "8zkHUI3JLrU5"
      },
      "execution_count": null,
      "outputs": []
    },
    {
      "cell_type": "markdown",
      "source": [
        "# **Hora da Verdade**"
      ],
      "metadata": {
        "id": "echoDQ2SNTJ_"
      }
    },
    {
      "cell_type": "markdown",
      "source": [
        "## Avaliando o conjunto de teste"
      ],
      "metadata": {
        "id": "McBSpiyMMb2v"
      }
    },
    {
      "cell_type": "code",
      "source": [
        "server_state = federated_algorithm.initialize()\n",
        "evaluate(server_state)"
      ],
      "metadata": {
        "colab": {
          "base_uri": "https://localhost:8080/"
        },
        "id": "WzRb1198McMU",
        "outputId": "7e7e3bc6-ae8d-4dfe-b1fd-e8081f9ec10f"
      },
      "execution_count": null,
      "outputs": [
        {
          "output_type": "stream",
          "name": "stdout",
          "text": [
            "2042/2042 [==============================] - 18s 9ms/step - loss: 2.8479 - sparse_categorical_accuracy: 0.1027\n"
          ]
        }
      ]
    },
    {
      "cell_type": "markdown",
      "source": [
        "## Treinando a Rede neural no servidor com 15 rodadas"
      ],
      "metadata": {
        "id": "ryjWQ2bgM-NF"
      }
    },
    {
      "cell_type": "code",
      "source": [
        "for round in range(15):\n",
        "  server_state = federated_algorithm.next(server_state, federated_train_data)"
      ],
      "metadata": {
        "id": "O8FQtUBOM-eY"
      },
      "execution_count": null,
      "outputs": []
    },
    {
      "cell_type": "code",
      "source": [
        "evaluate(server_state)"
      ],
      "metadata": {
        "colab": {
          "base_uri": "https://localhost:8080/"
        },
        "id": "U_MSsSx1M_vr",
        "outputId": "4f433af5-8c03-4c03-ccc1-f501b145aaec"
      },
      "execution_count": null,
      "outputs": [
        {
          "output_type": "stream",
          "name": "stdout",
          "text": [
            "2042/2042 [==============================] - 16s 8ms/step - loss: 2.5867 - sparse_categorical_accuracy: 0.0980\n"
          ]
        }
      ]
    },
    {
      "cell_type": "markdown",
      "source": [
        "## Depois de 100 rodadas"
      ],
      "metadata": {
        "id": "dUN4llHtPKEo"
      }
    },
    {
      "cell_type": "code",
      "source": [
        "for round in range(100):\n",
        "  server_state = federated_algorithm.next(server_state, federated_train_data)"
      ],
      "metadata": {
        "id": "NxslJJVNPmC7"
      },
      "execution_count": null,
      "outputs": []
    },
    {
      "cell_type": "code",
      "source": [
        "evaluate(server_state)"
      ],
      "metadata": {
        "colab": {
          "base_uri": "https://localhost:8080/"
        },
        "outputId": "c23d9044-cd37-49c3-9d58-354ca2d478bc",
        "id": "2Ufz2QWSPmC9"
      },
      "execution_count": null,
      "outputs": [
        {
          "output_type": "stream",
          "name": "stdout",
          "text": [
            "2042/2042 [==============================] - 9s 4ms/step - loss: 1.7416 - sparse_categorical_accuracy: 0.3447\n"
          ]
        }
      ]
    },
    {
      "cell_type": "markdown",
      "source": [
        "# Considerações Finais\n",
        "\n",
        "Cada vez que o Servidor recebe os dados (Pesos) dos clientes, ele itera sobre os mesmos. \n",
        "\n",
        "Como podemos ver, a cada iteração a perda(loss) diminui e a precisão(accuracy) aumenta. \n",
        "\n",
        "Então esses pesos são retornados aos clientes."
      ],
      "metadata": {
        "id": "ujy4RU_cQ6bC"
      }
    }
  ]
}