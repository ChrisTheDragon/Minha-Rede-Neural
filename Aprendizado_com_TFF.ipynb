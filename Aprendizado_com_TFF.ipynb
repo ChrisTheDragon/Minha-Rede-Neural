{
  "nbformat": 4,
  "nbformat_minor": 0,
  "metadata": {
    "colab": {
      "provenance": [],
      "authorship_tag": "ABX9TyMHMIhS6tj0WLz60RV2Qx9P",
      "include_colab_link": true
    },
    "kernelspec": {
      "name": "python3",
      "display_name": "Python 3"
    },
    "language_info": {
      "name": "python"
    }
  },
  "cells": [
    {
      "cell_type": "markdown",
      "metadata": {
        "id": "view-in-github",
        "colab_type": "text"
      },
      "source": [
        "<a href=\"https://colab.research.google.com/github/ChrisTheDragon/Minha-Rede-Neural/blob/main/Aprendizado_com_TFF.ipynb\" target=\"_parent\"><img src=\"https://colab.research.google.com/assets/colab-badge.svg\" alt=\"Open In Colab\"/></a>"
      ]
    },
    {
      "cell_type": "markdown",
      "source": [
        "# **Como usar Tensorflow-federated para construir uma rede com aprendizado federado**"
      ],
      "metadata": {
        "id": "5pEmAawM0JzR"
      }
    },
    {
      "cell_type": "markdown",
      "source": [
        "## O que é `Tensorflow-federated`"
      ],
      "metadata": {
        "id": "gtFOGqFWHC__"
      }
    },
    {
      "cell_type": "markdown",
      "source": [
        "A biblioteca TensorFlow Federated (TFF) é uma extensão do TensorFlow, que é um dos frameworks de aprendizado de máquina mais populares atualmente. O TFF foi projetado para permitir a construção e treinamento de modelos de aprendizado de máquina em um contexto de aprendizado federado. No aprendizado federado, em vez de reunir todos os dados em um local centralizado, o treinamento do modelo ocorre em dispositivos ou sistemas distribuídos, preservando a privacidade dos dados locais."
      ],
      "metadata": {
        "id": "iUAykopLHKK3"
      }
    },
    {
      "cell_type": "markdown",
      "source": [
        "## Importações"
      ],
      "metadata": {
        "id": "QFJlM9cmGrLt"
      }
    },
    {
      "cell_type": "code",
      "source": [],
      "metadata": {
        "id": "Tj7_mqJXsjP4"
      },
      "execution_count": 35,
      "outputs": []
    },
    {
      "cell_type": "code",
      "source": [
        "#@title\n",
        "!pip install --quiet --upgrade tensorflow-federated"
      ],
      "metadata": {
        "id": "Hv705WIHo6x1"
      },
      "execution_count": 35,
      "outputs": []
    },
    {
      "cell_type": "code",
      "source": [
        "import tensorflow as tf\n",
        "import tensorflow_federated as tff"
      ],
      "metadata": {
        "id": "RjFjfBA1o86-"
      },
      "execution_count": null,
      "outputs": []
    },
    {
      "cell_type": "markdown",
      "source": [
        "## Preparando os dados de entrada\n",
        "A aprendizagem federada requer um conjunto de dados federados, ou seja, uma coleção de dados de vários usuários.\n",
        "\n",
        "A fim de facilitar a experimentação, o repositório TFF tem alguns conjuntos de dados que podem ser usados livremente como teste, incluindo uma versão federado de MNIST que contém uma versão do conjunto de dados NIST originais. Que são digitos de 0-9 escritos a mão por escritores diferentes. Cada escritor será tratado como um cliente diferente.\n"
      ],
      "metadata": {
        "id": "n4QrENu2pEnK"
      }
    },
    {
      "cell_type": "code",
      "source": [],
      "metadata": {
        "id": "ZgEn2dOTxD7R"
      },
      "execution_count": 34,
      "outputs": []
    },
    {
      "cell_type": "markdown",
      "source": [
        "Para alimentar o conjunto de dados em nosso modelo, achatar os dados, e converter cada exemplo em uma tupla da forma (flattened_image_vector, label)."
      ],
      "metadata": {
        "id": "Rs6riuWm0cCK"
      }
    },
    {
      "cell_type": "code",
      "source": [
        "NUM_CLIENTS = 10\n",
        "BATCH_SIZE = 20\n",
        "\n",
        "def preprocess(dataset):\n",
        "\n",
        "  def batch_format_fn(element):\n",
        "    \"\"\"Flatten a batch of EMNIST data and return a (features, label) tuple.\"\"\"\n",
        "    return (tf.reshape(element['pixels'], [-1, 784]), \n",
        "            tf.reshape(element['label'], [-1, 1]))\n",
        "\n",
        "  return dataset.batch(BATCH_SIZE).map(batch_format_fn)"
      ],
      "metadata": {
        "id": "mSH91ufO0une"
      },
      "execution_count": 37,
      "outputs": []
    },
    {
      "cell_type": "markdown",
      "source": [
        "A função preprocess recebe um conjunto de dados, divide-o em lotes de tamanho fixo `BATCH_SIZE` e remodela os tensores de pixels e rótulos para uma forma adequada. Isso permite que os dados sejam processados em lotes durante o treinamento da rede neural no contexto do aprendizado federado."
      ],
      "metadata": {
        "id": "rJ1MJyB51zV_"
      }
    },
    {
      "cell_type": "code",
      "source": [
        "client_ids = sorted(emnist_train.client_ids)[:NUM_CLIENTS]\n",
        "federated_train_data = [preprocess(emnist_train.create_tf_dataset_for_client(x))\n",
        "  for x in client_ids\n",
        "]"
      ],
      "metadata": {
        "id": "06bAsBgD0zs2"
      },
      "execution_count": 38,
      "outputs": []
    },
    {
      "cell_type": "markdown",
      "source": [
        "O código acima cria uma lista chamada `federated_train_data`, que contém os conjuntos de dados pré-processados para cada cliente (dispositivo) envolvido no aprendizado federado. "
      ],
      "metadata": {
        "id": "31D23ddb2E9p"
      }
    },
    {
      "cell_type": "markdown",
      "source": [
        "## Construindo o Modelo\n",
        "Este modelo (implementado através `tf.keras` ) tem uma única camada oculta, seguindo-se uma camada Softmax."
      ],
      "metadata": {
        "id": "AdooOFU72MJt"
      }
    },
    {
      "cell_type": "code",
      "source": [],
      "metadata": {
        "id": "aTzS8QPo2emy"
      },
      "execution_count": 38,
      "outputs": []
    }
  ]
}